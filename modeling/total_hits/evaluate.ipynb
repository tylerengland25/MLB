{
 "cells": [
  {
   "cell_type": "code",
   "execution_count": 299,
   "metadata": {},
   "outputs": [],
   "source": [
    "import pandas as pd\n",
    "import numpy as np\n",
    "import os\n",
    "import seaborn as sns\n",
    "import matplotlib.pyplot as plt\n",
    "os.chdir('C:\\\\Users\\\\tyler\\\\OneDrive\\\\Documents\\\\Python\\\\MLB')"
   ]
  },
  {
   "cell_type": "code",
   "execution_count": 300,
   "metadata": {},
   "outputs": [],
   "source": [
    "# Load predictions\n",
    "predictions = pd.read_csv('backend/data/predictions/total_hits.csv')\n",
    "predictions['date'] = pd.to_datetime(predictions['date'])\n",
    "predictions = predictions[predictions['date'] != predictions['date'].max()]"
   ]
  },
  {
   "cell_type": "code",
   "execution_count": 301,
   "metadata": {},
   "outputs": [],
   "source": [
    "# Merge odds\n",
    "odds = pd.read_excel('backend/data/odds/total_hits.xlsx').dropna(axis=0)\n",
    "odds['date'] = pd.to_datetime(odds['date'])\n",
    "\n",
    "df = pd.merge(\n",
    "    odds,\n",
    "    predictions,\n",
    "    left_on=['date', 'visitor', 'home'],\n",
    "    right_on=['date', 'visitor', 'home'],\n",
    "    how='left'\n",
    ")\n",
    "df['outcome'] = np.where(df['line'] > df['total_hits'], 'u', 'o')"
   ]
  },
  {
   "cell_type": "code",
   "execution_count": 302,
   "metadata": {},
   "outputs": [],
   "source": [
    "def calc_profit(odds):\n",
    "    if int(odds) > 0:\n",
    "        return int(odds) / 100\n",
    "    else:\n",
    "        return 100 / abs(int(odds))"
   ]
  },
  {
   "cell_type": "code",
   "execution_count": 303,
   "metadata": {},
   "outputs": [],
   "source": [
    "models = ['decision_tree', 'gradient_boosted', 'random_forest', 'nn', 'linear_regression']\n",
    "colors = ['red', 'orange', 'yellow', 'green', 'blue', 'black']\n",
    "# models = ['decision_tree']\n",
    "# colors = ['red']"
   ]
  },
  {
   "cell_type": "code",
   "execution_count": 304,
   "metadata": {},
   "outputs": [],
   "source": [
    "# Calculate profit\n",
    "for model in models:\n",
    "    df[f'{model}_pick'] = np.where(df['line'] > df[model], 'u', 'o')\n",
    "\n",
    "    df[f'{model}_potential_profit'] = np.where(\n",
    "        df[f'{model}_pick'] == 'o', \n",
    "        df['over'].apply(calc_profit), \n",
    "        df['under'].apply(calc_profit)\n",
    "    )\n",
    "\n",
    "    df[f'{model}_profit'] = np.where(\n",
    "        df[f'{model}_pick'] == df['outcome'],\n",
    "        df[f'{model}_potential_profit'],\n",
    "        -1\n",
    "    )\n",
    "\n",
    "    df[f'{model}_hit_bust'] = np.where(df[f'{model}_pick'] == df['outcome'], 1, 0)\n",
    "\n",
    "df = df.dropna(axis=0)"
   ]
  },
  {
   "cell_type": "code",
   "execution_count": 305,
   "metadata": {},
   "outputs": [
    {
     "name": "stderr",
     "output_type": "stream",
     "text": [
      "C:\\Users\\tyler\\AppData\\Local\\Temp/ipykernel_9676/2884342071.py:27: RuntimeWarning: invalid value encountered in longlong_scalars\n",
      "  totals['accuracy'].append(f'{round((correct / (correct + wrong) * 100))}%')\n"
     ]
    },
    {
     "ename": "ValueError",
     "evalue": "cannot convert float NaN to integer",
     "output_type": "error",
     "traceback": [
      "\u001b[1;31m---------------------------------------------------------------------------\u001b[0m",
      "\u001b[1;31mValueError\u001b[0m                                Traceback (most recent call last)",
      "\u001b[1;32m~\\AppData\\Local\\Temp/ipykernel_9676/2884342071.py\u001b[0m in \u001b[0;36m<module>\u001b[1;34m\u001b[0m\n\u001b[0;32m     25\u001b[0m     \u001b[0mtotals\u001b[0m\u001b[1;33m[\u001b[0m\u001b[1;34m'model'\u001b[0m\u001b[1;33m]\u001b[0m\u001b[1;33m.\u001b[0m\u001b[0mappend\u001b[0m\u001b[1;33m(\u001b[0m\u001b[0mmodel\u001b[0m\u001b[1;33m)\u001b[0m\u001b[1;33m\u001b[0m\u001b[1;33m\u001b[0m\u001b[0m\n\u001b[0;32m     26\u001b[0m     \u001b[0mtotals\u001b[0m\u001b[1;33m[\u001b[0m\u001b[1;34m'record'\u001b[0m\u001b[1;33m]\u001b[0m\u001b[1;33m.\u001b[0m\u001b[0mappend\u001b[0m\u001b[1;33m(\u001b[0m\u001b[1;34mf'{correct} - {wrong}'\u001b[0m\u001b[1;33m)\u001b[0m\u001b[1;33m\u001b[0m\u001b[1;33m\u001b[0m\u001b[0m\n\u001b[1;32m---> 27\u001b[1;33m     \u001b[0mtotals\u001b[0m\u001b[1;33m[\u001b[0m\u001b[1;34m'accuracy'\u001b[0m\u001b[1;33m]\u001b[0m\u001b[1;33m.\u001b[0m\u001b[0mappend\u001b[0m\u001b[1;33m(\u001b[0m\u001b[1;34mf'{round((correct / (correct + wrong) * 100))}%'\u001b[0m\u001b[1;33m)\u001b[0m\u001b[1;33m\u001b[0m\u001b[1;33m\u001b[0m\u001b[0m\n\u001b[0m\u001b[0;32m     28\u001b[0m     \u001b[0mtotals\u001b[0m\u001b[1;33m[\u001b[0m\u001b[1;34m'profit'\u001b[0m\u001b[1;33m]\u001b[0m\u001b[1;33m.\u001b[0m\u001b[0mappend\u001b[0m\u001b[1;33m(\u001b[0m\u001b[0mround\u001b[0m\u001b[1;33m(\u001b[0m\u001b[0mprofit\u001b[0m\u001b[1;33m,\u001b[0m \u001b[1;36m2\u001b[0m\u001b[1;33m)\u001b[0m\u001b[1;33m)\u001b[0m\u001b[1;33m\u001b[0m\u001b[1;33m\u001b[0m\u001b[0m\n\u001b[0;32m     29\u001b[0m \u001b[1;33m\u001b[0m\u001b[0m\n",
      "\u001b[1;31mValueError\u001b[0m: cannot convert float NaN to integer"
     ]
    },
    {
     "data": {
      "image/png": "[encoded data removed]",
      "text/plain": [
       "<Figure size 720x360 with 1 Axes>"
      ]
     },
     "metadata": {},
     "output_type": "display_data"
    }
   ],
   "source": [
    "# Graph and print totals\n",
    "sns.set(rc={\"figure.figsize\":(10, 5)})\n",
    "sns.set_palette('bright', 8)\n",
    "plt.xlabel('date', fontsize=20)\n",
    "plt.ylabel('units', fontsize=20)\n",
    "plt.xticks(fontsize=15, rotation=45)\n",
    "plt.yticks(fontsize=15)\n",
    "\n",
    "totals = {'model': [], 'record': [], 'accuracy': [], 'profit': []}\n",
    "for model, col in zip(models, colors):\n",
    "    # Line graph\n",
    "    sns.lineplot(\n",
    "        data=df.groupby(['date']).sum(), \n",
    "        x='date', \n",
    "        y=df.groupby(['date']).sum()[f'{model}_profit'].cumsum(), \n",
    "        color=col, \n",
    "        label=model\n",
    "    )\n",
    "    \n",
    "    # Totals\n",
    "    profit = round(df[f'{model}_profit'].sum(), 2)\n",
    "    correct = df[f'{model}_hit_bust'].sum()\n",
    "    wrong = df[f'{model}_hit_bust'].count() - df[f'{model}_hit_bust'].sum()\n",
    "    \n",
    "    totals['model'].append(model)\n",
    "    totals['record'].append(f'{correct} - {wrong}')\n",
    "    totals['accuracy'].append(f'{round((correct / (correct + wrong) * 100))}%')\n",
    "    totals['profit'].append(round(profit, 2))\n",
    "    \n",
    "\n",
    "totals = pd.DataFrame(totals).sort_values(['profit', 'accuracy'], ascending=False)\n",
    "totals"
   ]
  },
  {
   "cell_type": "code",
   "execution_count": null,
   "metadata": {},
   "outputs": [],
   "source": []
  }
 ],
 "metadata": {
  "interpreter": {
   "hash": "9650cb4e16cdd4a8e8e2d128bf38d875813998db22a3c986335f89e0cb4d7bb2"
  },
  "kernelspec": {
   "display_name": "Python 3.8.2 64-bit",
   "language": "python",
   "name": "python3"
  },
  "language_info": {
   "codemirror_mode": {
    "name": "ipython",
    "version": 3
   },
   "file_extension": ".py",
   "mimetype": "text/x-python",
   "name": "python",
   "nbconvert_exporter": "python",
   "pygments_lexer": "ipython3",
   "version": "3.8.2"
  },
  "orig_nbformat": 4
 },
 "nbformat": 4,
 "nbformat_minor": 2
}
