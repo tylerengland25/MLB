{
 "cells": [
  {
   "cell_type": "code",
   "execution_count": 1,
   "metadata": {},
   "outputs": [],
   "source": [
    "import pandas as pd\n",
    "import os\n",
    "import seaborn as sns\n",
    "import matplotlib.pyplot as plt\n",
    "import numpy as np"
   ]
  },
  {
   "cell_type": "code",
   "execution_count": 2,
   "metadata": {},
   "outputs": [
    {
     "name": "stdout",
     "output_type": "stream",
     "text": [
      "CWD: \n",
      "c:\\Users\\tyler\\OneDrive\\Documents\\Python\\MLB\n"
     ]
    }
   ],
   "source": [
    "# Chage cwd\n",
    "os.chdir('c:\\\\Users\\\\tyler\\\\OneDrive\\\\Documents\\\\Python\\\\MLB')\n",
    "print(f'CWD: \\n{os.getcwd()}')"
   ]
  },
  {
   "cell_type": "code",
   "execution_count": 3,
   "metadata": {},
   "outputs": [
    {
     "name": "stdout",
     "output_type": "stream",
     "text": [
      "<class 'pandas.core.frame.DataFrame'>\n",
      "RangeIndex: 10815 entries, 0 to 10814\n",
      "Data columns (total 4 columns):\n",
      " #   Column   Non-Null Count  Dtype         \n",
      "---  ------   --------------  -----         \n",
      " 0   date     10815 non-null  datetime64[ns]\n",
      " 1   visitor  10815 non-null  object        \n",
      " 2   home     10815 non-null  object        \n",
      " 3   season   10815 non-null  int64         \n",
      "dtypes: datetime64[ns](1), int64(1), object(2)\n",
      "memory usage: 338.1+ KB\n"
     ]
    }
   ],
   "source": [
    "# Load schedules\n",
    "schedule = pd.DataFrame()\n",
    "for season in range(2022-5, 2022):\n",
    "    schedule = schedule.append(pd.read_csv(f'backend/data/schedules/{season}.csv'), ignore_index=True)\n",
    "\n",
    "schedule['date'] = pd.to_datetime(schedule['date'])\n",
    "schedule.info()"
   ]
  },
  {
   "cell_type": "code",
   "execution_count": 4,
   "metadata": {},
   "outputs": [
    {
     "name": "stdout",
     "output_type": "stream",
     "text": [
      "<class 'pandas.core.frame.DataFrame'>\n",
      "RangeIndex: 22148 entries, 0 to 22147\n",
      "Data columns (total 26 columns):\n",
      " #   Column   Non-Null Count  Dtype         \n",
      "---  ------   --------------  -----         \n",
      " 0   date     22148 non-null  datetime64[ns]\n",
      " 1   visitor  22148 non-null  object        \n",
      " 2   home     22148 non-null  object        \n",
      " 3   team     22148 non-null  object        \n",
      " 4   1        22148 non-null  int64         \n",
      " 5   2        22148 non-null  int64         \n",
      " 6   3        22148 non-null  int64         \n",
      " 7   4        22148 non-null  int64         \n",
      " 8   5        22148 non-null  object        \n",
      " 9   6        22140 non-null  object        \n",
      " 10  7        22124 non-null  object        \n",
      " 11  8        21700 non-null  object        \n",
      " 12  9        21646 non-null  object        \n",
      " 13  R        22148 non-null  int64         \n",
      " 14  H        22148 non-null  int64         \n",
      " 15  E        22148 non-null  int64         \n",
      " 16  10       1834 non-null   float64       \n",
      " 17  11       844 non-null    float64       \n",
      " 18  12       408 non-null    float64       \n",
      " 19  13       222 non-null    float64       \n",
      " 20  14       112 non-null    float64       \n",
      " 21  15       74 non-null     float64       \n",
      " 22  16       42 non-null     float64       \n",
      " 23  17       20 non-null     float64       \n",
      " 24  18       14 non-null     float64       \n",
      " 25  19       4 non-null      float64       \n",
      "dtypes: datetime64[ns](1), float64(10), int64(7), object(8)\n",
      "memory usage: 4.4+ MB\n"
     ]
    }
   ],
   "source": [
    "# Load scores\n",
    "scores = pd.read_csv('backend/data/scores/boxscore.csv')\n",
    "scores['date'] = pd.to_datetime(scores['date'])\n",
    "\n",
    "scores.info()"
   ]
  },
  {
   "cell_type": "code",
   "execution_count": 5,
   "metadata": {},
   "outputs": [
    {
     "name": "stdout",
     "output_type": "stream",
     "text": [
      "<class 'pandas.core.frame.DataFrame'>\n",
      "Int64Index: 22148 entries, 0 to 22147\n",
      "Data columns (total 46 columns):\n",
      " #   Column   Non-Null Count  Dtype         \n",
      "---  ------   --------------  -----         \n",
      " 0   date     22148 non-null  datetime64[ns]\n",
      " 1   visitor  22148 non-null  object        \n",
      " 2   home     22148 non-null  object        \n",
      " 3   team     22148 non-null  object        \n",
      " 4   ab       22148 non-null  int64         \n",
      " 5   r        22148 non-null  int64         \n",
      " 6   h        22148 non-null  int64         \n",
      " 7   rbi      22148 non-null  int64         \n",
      " 8   bb       22148 non-null  int64         \n",
      " 9   so       22148 non-null  int64         \n",
      " 10  pa       22148 non-null  int64         \n",
      " 11  ba       22148 non-null  float64       \n",
      " 12  obp      22148 non-null  float64       \n",
      " 13  slg      22148 non-null  float64       \n",
      " 14  ops      22148 non-null  float64       \n",
      " 15  pit      22148 non-null  int64         \n",
      " 16  str      22148 non-null  int64         \n",
      " 17  wpa      22148 non-null  float64       \n",
      " 18  ali      22148 non-null  float64       \n",
      " 19  wpa+     22148 non-null  float64       \n",
      " 20  wpa-     22148 non-null  float64       \n",
      " 21  cwpa     22148 non-null  float64       \n",
      " 22  acli     22148 non-null  float64       \n",
      " 23  re24     22148 non-null  float64       \n",
      " 24  po       22148 non-null  int64         \n",
      " 25  a        22148 non-null  int64         \n",
      " 26  2b       22148 non-null  float64       \n",
      " 27  3b       22148 non-null  float64       \n",
      " 28  cs       22148 non-null  float64       \n",
      " 29  hr       22148 non-null  float64       \n",
      " 30  sb       22148 non-null  float64       \n",
      " 31  sf       22148 non-null  float64       \n",
      " 32  iw       22148 non-null  float64       \n",
      " 33  sh       22148 non-null  float64       \n",
      " 34  gdp      22148 non-null  float64       \n",
      " 35  hbp      22148 non-null  float64       \n",
      " 36  2B       22148 non-null  float64       \n",
      " 37  HR       22148 non-null  float64       \n",
      " 38  IW       22148 non-null  float64       \n",
      " 39  SB       22148 non-null  float64       \n",
      " 40  3B       22148 non-null  float64       \n",
      " 41  GDP      22148 non-null  float64       \n",
      " 42  HBP      22148 non-null  float64       \n",
      " 43  SF       22148 non-null  float64       \n",
      " 44  CS       22148 non-null  float64       \n",
      " 45  SH       22148 non-null  float64       \n",
      "dtypes: datetime64[ns](1), float64(31), int64(11), object(3)\n",
      "memory usage: 7.9+ MB\n"
     ]
    }
   ],
   "source": [
    "# Load batting totals\n",
    "batting_totals = pd.read_csv('backend/data/batting/totals.csv')\n",
    "batting_totals['date'] = pd.to_datetime(batting_totals['date'])\n",
    "batting_totals['wpa-'] = batting_totals['wpa-'].apply(lambda x: float(x.strip(\"%\")))\n",
    "batting_totals['cwpa'] = batting_totals['cwpa'].apply(lambda x: float(x.strip(\"%\")))\n",
    "batting_totals = batting_totals.fillna(0)\n",
    "batting_totals = batting_totals[batting_totals['ab'] != 0]\n",
    "\n",
    "batting_totals.info(verbose=True)"
   ]
  },
  {
   "cell_type": "code",
   "execution_count": 6,
   "metadata": {},
   "outputs": [],
   "source": [
    "# Function for feature engineering stats\n",
    "def feature_engineer(df):\n",
    "   df['ba'] = df['h'] / df['ab']\n",
    "   df['obp'] = (df['h'] + df['bb'] + df['hbp']) / (df['ab'] + df['bb'] + df['hbp'] + df['sf'])\n",
    "   df['1b'] = df['h'] - (df['2b'] + df['3b'] + df['hr'])\n",
    "   df['slg'] = (df['1b'] + 2*df['2b'] + 3*df['3b'] + 4*df['hr']) / df['ab']\n",
    "   df['ops'] = df['obp'] + df['slg']\n",
    "\n",
    "   return df\n",
    "   "
   ]
  },
  {
   "cell_type": "code",
   "execution_count": 7,
   "metadata": {},
   "outputs": [],
   "source": [
    "# Function for sma\n",
    "def sma(bin, df):\n",
    "\n",
    "    sma_df = pd.DataFrame()\n",
    "    \n",
    "    for team in df['team'].unique():\n",
    "        for season in df['date'].dt.year.unique():\n",
    "            team_df = df[(df['team'] == team) & (df['date'].dt.year == season)].sort_values(by=['date']).copy()\n",
    "            for col in list(set(df.columns).difference({'date', 'visitor', 'home', 'team'})):\n",
    "                team_df[col] = team_df[col].rolling(bin, closed='left').mean()\n",
    "            \n",
    "            sma_df = sma_df.append(team_df, ignore_index=True)\n",
    "    \n",
    "    sma_df = pd.merge(\n",
    "        sma_df, \n",
    "        df[['date', 'visitor', 'home', 'team', 'h']],\n",
    "        left_on=['date', 'visitor', 'home', 'team'], \n",
    "        right_on=['date', 'visitor', 'home', 'team'],\n",
    "        suffixes=('', '_target')\n",
    "    )\n",
    "\n",
    "    sma_df = feature_engineer(sma_df)\n",
    "\n",
    "    return sma_df.sort_values(by=['date'])"
   ]
  },
  {
   "cell_type": "code",
   "execution_count": 8,
   "metadata": {},
   "outputs": [],
   "source": [
    "# Function for cma\n",
    "def cma(df, schedule):\n",
    "\n",
    "    df = pd.merge(\n",
    "        schedule.drop(['season'], axis=1),\n",
    "        df,\n",
    "        left_on=['date', 'visitor', 'home'],\n",
    "        right_on=['date', 'visitor', 'home'],\n",
    "        how='left'\n",
    "    )\n",
    "\n",
    "    cma_df = pd.DataFrame()\n",
    "\n",
    "    for team in df['team'].unique():\n",
    "        for season in df['date'].dt.year.unique():\n",
    "            team_df = df[(df['team'] == team) & (df['date'].dt.year == season)].sort_values(by=['date']).copy()\n",
    "            for col in list(set(df.columns).difference({'date', 'visitor', 'home', 'team'})):\n",
    "                team_df[col] = team_df[col].expanding(1).mean()\n",
    "                team_df[col] = team_df[col].shift(1)\n",
    "            \n",
    "            cma_df = cma_df.append(team_df, ignore_index=True)\n",
    "    \n",
    "    cma_df = pd.merge(\n",
    "        cma_df, \n",
    "        df[['date', 'visitor', 'home', 'team', 'h']],\n",
    "        left_on=['date', 'visitor', 'home', 'team'], \n",
    "        right_on=['date', 'visitor', 'home', 'team'],\n",
    "        suffixes=('', '_target')\n",
    "    )\n",
    "\n",
    "    cma_df = feature_engineer(cma_df)\n",
    "\n",
    "    return cma_df.sort_values(by=['date'])"
   ]
  },
  {
   "cell_type": "code",
   "execution_count": 9,
   "metadata": {},
   "outputs": [],
   "source": [
    "# Function for ema\n",
    "def ema(df, schedule):\n",
    "\n",
    "    df = pd.merge(\n",
    "        schedule.drop(['season'], axis=1),\n",
    "        df,\n",
    "        left_on=['date', 'visitor', 'home'],\n",
    "        right_on=['date', 'visitor', 'home'],\n",
    "        how='left'\n",
    "    )\n",
    "\n",
    "    ema_df = pd.DataFrame()\n",
    "\n",
    "    for team in df['team'].unique():\n",
    "        for season in df['date'].dt.year.unique():\n",
    "            team_df = df[(df['team'] == team) & (df['date'].dt.year == season)].sort_values(by=['date']).copy()\n",
    "            for col in list(set(df.columns).difference({'date', 'visitor', 'home', 'team'})):\n",
    "                team_df[col] = team_df[col].ewm(alpha=2 / 3).mean()\n",
    "                team_df[col] = team_df[col].shift(1)\n",
    "            \n",
    "            ema_df = ema_df.append(team_df, ignore_index=True)\n",
    "    \n",
    "    ema_df = pd.merge(\n",
    "        ema_df, \n",
    "        df[['date', 'visitor', 'home', 'team', 'h']],\n",
    "        left_on=['date', 'visitor', 'home', 'team'], \n",
    "        right_on=['date', 'visitor', 'home', 'team'],\n",
    "        suffixes=('', '_target')\n",
    "    )\n",
    "\n",
    "    ema_df = feature_engineer(ema_df)\n",
    "\n",
    "    return ema_df.sort_values(by=['date'])"
   ]
  },
  {
   "cell_type": "code",
   "execution_count": 10,
   "metadata": {},
   "outputs": [],
   "source": [
    "# Apply SMA (season, last 20 games, last 10 games, last 5 games, last 3 games, last game)\n",
    "cols = list(set(batting_totals.columns).difference({'obp', 'slg', 'ops', 'wpa', 'ali', 'wpa+', 'wpa-', 'cwpa', 'acli', 're24'}))\n",
    "df = batting_totals[cols]\n",
    "ema_batting_df = ema(df, schedule)\n",
    "sma_batting_df = sma(10, df)\n",
    "cma_batting_df = cma(df, schedule)"
   ]
  },
  {
   "cell_type": "code",
   "execution_count": 11,
   "metadata": {},
   "outputs": [
    {
     "name": "stdout",
     "output_type": "stream",
     "text": [
      "<class 'pandas.core.frame.DataFrame'>\n",
      "RangeIndex: 22148 entries, 0 to 22147\n",
      "Data columns (total 30 columns):\n",
      " #   Column   Non-Null Count  Dtype         \n",
      "---  ------   --------------  -----         \n",
      " 0   date     22148 non-null  datetime64[ns]\n",
      " 1   visitor  22148 non-null  object        \n",
      " 2   home     22148 non-null  object        \n",
      " 3   team     22148 non-null  object        \n",
      " 4   ip       22148 non-null  float64       \n",
      " 5   h        22148 non-null  int64         \n",
      " 6   r        22148 non-null  int64         \n",
      " 7   er       22148 non-null  int64         \n",
      " 8   bb       22148 non-null  int64         \n",
      " 9   so       22148 non-null  int64         \n",
      " 10  hr       22148 non-null  int64         \n",
      " 11  era      22148 non-null  float64       \n",
      " 12  bf       22148 non-null  int64         \n",
      " 13  pit      22148 non-null  int64         \n",
      " 14  str      22148 non-null  int64         \n",
      " 15  ctct     22148 non-null  int64         \n",
      " 16  sts      22148 non-null  int64         \n",
      " 17  stl      22148 non-null  int64         \n",
      " 18  gb       22148 non-null  int64         \n",
      " 19  fb       22148 non-null  int64         \n",
      " 20  ld       22148 non-null  int64         \n",
      " 21  unk      22148 non-null  int64         \n",
      " 22  gsc      22148 non-null  int64         \n",
      " 23  ir       21921 non-null  float64       \n",
      " 24  is       21921 non-null  float64       \n",
      " 25  wpa      22148 non-null  float64       \n",
      " 26  ali      22148 non-null  float64       \n",
      " 27  cwpa     22148 non-null  float64       \n",
      " 28  acli     22148 non-null  float64       \n",
      " 29  re24     22148 non-null  float64       \n",
      "dtypes: datetime64[ns](1), float64(9), int64(17), object(3)\n",
      "memory usage: 5.1+ MB\n"
     ]
    }
   ],
   "source": [
    "# Load pitching totals\n",
    "pitching_totals = pd.read_csv('backend/data/pitching/totals.csv')\n",
    "pitching_totals['date'] = pd.to_datetime(pitching_totals['date'])\n",
    "pitching_totals['cwpa'] = pitching_totals['cwpa'].apply(lambda x: float(x.strip('%')))\n",
    "\n",
    "pitching_totals.info()"
   ]
  },
  {
   "cell_type": "code",
   "execution_count": 12,
   "metadata": {},
   "outputs": [],
   "source": [
    "# Function for feature engineering stats\n",
    "def feature_engineer(df):\n",
    "   df['era'] = 9 * df['er'] / df['ip']\n",
    "\n",
    "   return df"
   ]
  },
  {
   "cell_type": "code",
   "execution_count": 13,
   "metadata": {},
   "outputs": [],
   "source": [
    "# Apply SMA (season, last 20 games, last 10 games, last 5 games, last 3 games, last game)\n",
    "cols = list(set(pitching_totals.columns).difference({'era', 'gsc', 'wpa', 'ali', 'cwpa', 'acli', 're24'}))\n",
    "df = pitching_totals[cols]\n",
    "cma_pitching_df = cma(df, schedule)\n",
    "ema_pitching_df = ema(df, schedule)\n",
    "sma_pitching_df = sma(10, df)"
   ]
  },
  {
   "cell_type": "code",
   "execution_count": 14,
   "metadata": {},
   "outputs": [
    {
     "name": "stdout",
     "output_type": "stream",
     "text": [
      "CMA Correlation: 29%\n",
      "SMA Correlation: 13%\n",
      "EMA Correlation: 49%\n"
     ]
    }
   ],
   "source": [
    "# Average pitching and batting data\n",
    "dfs = {\n",
    "    'cma': (cma_batting_df, cma_pitching_df), \n",
    "    'sma': (sma_batting_df, sma_pitching_df), \n",
    "    'ema': (ema_batting_df, ema_pitching_df)\n",
    "}\n",
    "for key in dfs:\n",
    "    batting_df = dfs[key][0]\n",
    "    pitching_df = dfs[key][1]\n",
    "\n",
    "    batting_df['opponent'] = np.where(batting_df['team'] == batting_df['home'], batting_df['visitor'], batting_df['home'])\n",
    "\n",
    "    df = pd.merge(\n",
    "        batting_df[['date', 'visitor', 'home', 'team', 'opponent', 'h', 'h_target']], \n",
    "        pitching_df[['date', 'visitor', 'home', 'team', 'h']], \n",
    "        left_on=['date', 'visitor', 'home', 'opponent'],\n",
    "        right_on=['date', 'visitor', 'home', 'team'],\n",
    "        suffixes=['_batting', '_pitching']\n",
    "    )\n",
    "\n",
    "    df['h'] =  (df['h_batting'] * 0.5) + (df['h_pitching'] * 0.5)\n",
    "    corr = round(df['h'].corr(df['h_target']) * 100)\n",
    "    print(f'{key.upper()} Correlation: {corr}%')\n"
   ]
  },
  {
   "cell_type": "code",
   "execution_count": 17,
   "metadata": {},
   "outputs": [
    {
     "data": {
      "image/png": "[encoded data removed]",
      "text/plain": [
       "<Figure size 720x720 with 1 Axes>"
      ]
     },
     "metadata": {
      "needs_background": "light"
     },
     "output_type": "display_data"
    }
   ],
   "source": [
    "# Graph\n",
    "fig, ax = plt.subplots(1, 1, figsize=(10, 10))\n",
    "\n",
    "sns.regplot(\n",
    "    data=df, \n",
    "    x='h',\n",
    "    y='h_target',\n",
    "    order=2,\n",
    "    ax=ax, \n",
    "    scatter_kws={'alpha':0.004}, \n",
    "    line_kws={\"color\": \"red\"}\n",
    "    )\n",
    "\n",
    "plt.show()"
   ]
  },
  {
   "cell_type": "code",
   "execution_count": 19,
   "metadata": {},
   "outputs": [
    {
     "name": "stdout",
     "output_type": "stream",
     "text": [
      "<class 'pandas.core.frame.DataFrame'>\n",
      "RangeIndex: 97098 entries, 0 to 97097\n",
      "Data columns (total 31 columns):\n",
      " #   Column   Non-Null Count  Dtype         \n",
      "---  ------   --------------  -----         \n",
      " 0   date     97098 non-null  datetime64[ns]\n",
      " 1   visitor  97098 non-null  object        \n",
      " 2   home     97098 non-null  object        \n",
      " 3   team     97098 non-null  object        \n",
      " 4   player   97098 non-null  object        \n",
      " 5   ip       97098 non-null  float64       \n",
      " 6   h        97098 non-null  int64         \n",
      " 7   r        97098 non-null  int64         \n",
      " 8   er       97098 non-null  int64         \n",
      " 9   bb       97098 non-null  int64         \n",
      " 10  so       97098 non-null  int64         \n",
      " 11  hr       97098 non-null  int64         \n",
      " 12  era      97063 non-null  float64       \n",
      " 13  bf       97098 non-null  int64         \n",
      " 14  pit      97073 non-null  float64       \n",
      " 15  str      97073 non-null  float64       \n",
      " 16  ctct     96995 non-null  float64       \n",
      " 17  sts      97073 non-null  float64       \n",
      " 18  stl      97073 non-null  float64       \n",
      " 19  gb       97074 non-null  float64       \n",
      " 20  fb       97074 non-null  float64       \n",
      " 21  ld       97074 non-null  float64       \n",
      " 22  unk      97074 non-null  float64       \n",
      " 23  gsc      22148 non-null  float64       \n",
      " 24  ir       74946 non-null  float64       \n",
      " 25  is       74946 non-null  float64       \n",
      " 26  wpa      97074 non-null  float64       \n",
      " 27  ali      97098 non-null  float64       \n",
      " 28  cwpa     97098 non-null  float64       \n",
      " 29  acli     97098 non-null  float64       \n",
      " 30  re24     97098 non-null  float64       \n",
      "dtypes: datetime64[ns](1), float64(19), int64(7), object(4)\n",
      "memory usage: 23.0+ MB\n"
     ]
    }
   ],
   "source": [
    "# Load pitching details\n",
    "pitching_details = pd.read_csv('backend/data/pitching/details.csv')\n",
    "pitching_details['date'] = pd.to_datetime(pitching_details['date'])\n",
    "pitching_details['cwpa'] = pitching_details['cwpa'].apply(lambda x: float(x.strip('%')))\n",
    "\n",
    "pitching_details.info()"
   ]
  },
  {
   "cell_type": "code",
   "execution_count": 23,
   "metadata": {},
   "outputs": [
    {
     "ename": "KeyboardInterrupt",
     "evalue": "",
     "output_type": "error",
     "traceback": [
      "\u001b[1;31m---------------------------------------------------------------------------\u001b[0m",
      "\u001b[1;31mKeyboardInterrupt\u001b[0m                         Traceback (most recent call last)",
      "\u001b[1;32m~\\AppData\\Local\\Temp/ipykernel_4580/645318205.py\u001b[0m in \u001b[0;36m<module>\u001b[1;34m\u001b[0m\n\u001b[0;32m      9\u001b[0m             \u001b[0mgame_df\u001b[0m \u001b[1;33m=\u001b[0m \u001b[0mteam_df\u001b[0m\u001b[1;33m[\u001b[0m\u001b[0mteam_df\u001b[0m\u001b[1;33m[\u001b[0m\u001b[1;34m'date'\u001b[0m\u001b[1;33m]\u001b[0m \u001b[1;33m==\u001b[0m \u001b[0mdate\u001b[0m\u001b[1;33m]\u001b[0m\u001b[1;33m\u001b[0m\u001b[1;33m\u001b[0m\u001b[0m\n\u001b[0;32m     10\u001b[0m             \u001b[0mstarters_df\u001b[0m \u001b[1;33m=\u001b[0m \u001b[0mstarters_df\u001b[0m\u001b[1;33m.\u001b[0m\u001b[0mappend\u001b[0m\u001b[1;33m(\u001b[0m\u001b[0mgame_df\u001b[0m\u001b[1;33m.\u001b[0m\u001b[0miloc\u001b[0m\u001b[1;33m[\u001b[0m\u001b[1;36m0\u001b[0m\u001b[1;33m,\u001b[0m \u001b[1;33m:\u001b[0m\u001b[1;33m]\u001b[0m\u001b[1;33m,\u001b[0m \u001b[0mignore_index\u001b[0m\u001b[1;33m=\u001b[0m\u001b[1;32mTrue\u001b[0m\u001b[1;33m)\u001b[0m\u001b[1;33m\u001b[0m\u001b[1;33m\u001b[0m\u001b[0m\n\u001b[1;32m---> 11\u001b[1;33m             \u001b[0mbullpen_df\u001b[0m \u001b[1;33m=\u001b[0m \u001b[0mbullpen_df\u001b[0m\u001b[1;33m.\u001b[0m\u001b[0mappend\u001b[0m\u001b[1;33m(\u001b[0m\u001b[0mgame_df\u001b[0m\u001b[1;33m.\u001b[0m\u001b[0miloc\u001b[0m\u001b[1;33m[\u001b[0m\u001b[1;36m1\u001b[0m\u001b[1;33m:\u001b[0m\u001b[1;33m,\u001b[0m \u001b[1;33m:\u001b[0m\u001b[1;33m]\u001b[0m\u001b[1;33m,\u001b[0m \u001b[0mignore_index\u001b[0m\u001b[1;33m=\u001b[0m\u001b[1;32mTrue\u001b[0m\u001b[1;33m)\u001b[0m\u001b[1;33m\u001b[0m\u001b[1;33m\u001b[0m\u001b[0m\n\u001b[0m",
      "\u001b[1;32mC:\\Python38\\lib\\site-packages\\pandas\\core\\frame.py\u001b[0m in \u001b[0;36mappend\u001b[1;34m(self, other, ignore_index, verify_integrity, sort)\u001b[0m\n\u001b[0;32m   7980\u001b[0m             \u001b[0mto_concat\u001b[0m \u001b[1;33m=\u001b[0m \u001b[1;33m[\u001b[0m\u001b[0mself\u001b[0m\u001b[1;33m,\u001b[0m \u001b[0mother\u001b[0m\u001b[1;33m]\u001b[0m\u001b[1;33m\u001b[0m\u001b[1;33m\u001b[0m\u001b[0m\n\u001b[0;32m   7981\u001b[0m         return (\n\u001b[1;32m-> 7982\u001b[1;33m             concat(\n\u001b[0m\u001b[0;32m   7983\u001b[0m                 \u001b[0mto_concat\u001b[0m\u001b[1;33m,\u001b[0m\u001b[1;33m\u001b[0m\u001b[1;33m\u001b[0m\u001b[0m\n\u001b[0;32m   7984\u001b[0m                 \u001b[0mignore_index\u001b[0m\u001b[1;33m=\u001b[0m\u001b[0mignore_index\u001b[0m\u001b[1;33m,\u001b[0m\u001b[1;33m\u001b[0m\u001b[1;33m\u001b[0m\u001b[0m\n",
      "\u001b[1;32mC:\\Python38\\lib\\site-packages\\pandas\\core\\reshape\\concat.py\u001b[0m in \u001b[0;36mconcat\u001b[1;34m(objs, axis, join, ignore_index, keys, levels, names, verify_integrity, sort, copy)\u001b[0m\n\u001b[0;32m    283\u001b[0m     \u001b[0mValueError\u001b[0m\u001b[1;33m:\u001b[0m \u001b[0mIndexes\u001b[0m \u001b[0mhave\u001b[0m \u001b[0moverlapping\u001b[0m \u001b[0mvalues\u001b[0m\u001b[1;33m:\u001b[0m \u001b[1;33m[\u001b[0m\u001b[1;34m'a'\u001b[0m\u001b[1;33m]\u001b[0m\u001b[1;33m\u001b[0m\u001b[1;33m\u001b[0m\u001b[0m\n\u001b[0;32m    284\u001b[0m     \"\"\"\n\u001b[1;32m--> 285\u001b[1;33m     op = _Concatenator(\n\u001b[0m\u001b[0;32m    286\u001b[0m         \u001b[0mobjs\u001b[0m\u001b[1;33m,\u001b[0m\u001b[1;33m\u001b[0m\u001b[1;33m\u001b[0m\u001b[0m\n\u001b[0;32m    287\u001b[0m         \u001b[0maxis\u001b[0m\u001b[1;33m=\u001b[0m\u001b[0maxis\u001b[0m\u001b[1;33m,\u001b[0m\u001b[1;33m\u001b[0m\u001b[1;33m\u001b[0m\u001b[0m\n",
      "\u001b[1;32mC:\\Python38\\lib\\site-packages\\pandas\\core\\reshape\\concat.py\u001b[0m in \u001b[0;36m__init__\u001b[1;34m(self, objs, axis, join, keys, levels, names, ignore_index, verify_integrity, copy, sort)\u001b[0m\n\u001b[0;32m    371\u001b[0m \u001b[1;33m\u001b[0m\u001b[0m\n\u001b[0;32m    372\u001b[0m             \u001b[1;31m# consolidate\u001b[0m\u001b[1;33m\u001b[0m\u001b[1;33m\u001b[0m\u001b[1;33m\u001b[0m\u001b[0m\n\u001b[1;32m--> 373\u001b[1;33m             \u001b[0mobj\u001b[0m\u001b[1;33m.\u001b[0m\u001b[0m_consolidate_inplace\u001b[0m\u001b[1;33m(\u001b[0m\u001b[1;33m)\u001b[0m\u001b[1;33m\u001b[0m\u001b[1;33m\u001b[0m\u001b[0m\n\u001b[0m\u001b[0;32m    374\u001b[0m             \u001b[0mndims\u001b[0m\u001b[1;33m.\u001b[0m\u001b[0madd\u001b[0m\u001b[1;33m(\u001b[0m\u001b[0mobj\u001b[0m\u001b[1;33m.\u001b[0m\u001b[0mndim\u001b[0m\u001b[1;33m)\u001b[0m\u001b[1;33m\u001b[0m\u001b[1;33m\u001b[0m\u001b[0m\n\u001b[0;32m    375\u001b[0m \u001b[1;33m\u001b[0m\u001b[0m\n",
      "\u001b[1;32mC:\\Python38\\lib\\site-packages\\pandas\\core\\generic.py\u001b[0m in \u001b[0;36m_consolidate_inplace\u001b[1;34m(self)\u001b[0m\n\u001b[0;32m   5539\u001b[0m             \u001b[0mself\u001b[0m\u001b[1;33m.\u001b[0m\u001b[0m_mgr\u001b[0m \u001b[1;33m=\u001b[0m \u001b[0mself\u001b[0m\u001b[1;33m.\u001b[0m\u001b[0m_mgr\u001b[0m\u001b[1;33m.\u001b[0m\u001b[0mconsolidate\u001b[0m\u001b[1;33m(\u001b[0m\u001b[1;33m)\u001b[0m\u001b[1;33m\u001b[0m\u001b[1;33m\u001b[0m\u001b[0m\n\u001b[0;32m   5540\u001b[0m \u001b[1;33m\u001b[0m\u001b[0m\n\u001b[1;32m-> 5541\u001b[1;33m         \u001b[0mself\u001b[0m\u001b[1;33m.\u001b[0m\u001b[0m_protect_consolidate\u001b[0m\u001b[1;33m(\u001b[0m\u001b[0mf\u001b[0m\u001b[1;33m)\u001b[0m\u001b[1;33m\u001b[0m\u001b[1;33m\u001b[0m\u001b[0m\n\u001b[0m\u001b[0;32m   5542\u001b[0m \u001b[1;33m\u001b[0m\u001b[0m\n\u001b[0;32m   5543\u001b[0m     \u001b[1;33m@\u001b[0m\u001b[0mfinal\u001b[0m\u001b[1;33m\u001b[0m\u001b[1;33m\u001b[0m\u001b[0m\n",
      "\u001b[1;32mC:\\Python38\\lib\\site-packages\\pandas\\core\\generic.py\u001b[0m in \u001b[0;36m_protect_consolidate\u001b[1;34m(self, f)\u001b[0m\n\u001b[0;32m   5527\u001b[0m         \"\"\"\n\u001b[0;32m   5528\u001b[0m         \u001b[0mblocks_before\u001b[0m \u001b[1;33m=\u001b[0m \u001b[0mlen\u001b[0m\u001b[1;33m(\u001b[0m\u001b[0mself\u001b[0m\u001b[1;33m.\u001b[0m\u001b[0m_mgr\u001b[0m\u001b[1;33m.\u001b[0m\u001b[0mblocks\u001b[0m\u001b[1;33m)\u001b[0m\u001b[1;33m\u001b[0m\u001b[1;33m\u001b[0m\u001b[0m\n\u001b[1;32m-> 5529\u001b[1;33m         \u001b[0mresult\u001b[0m \u001b[1;33m=\u001b[0m \u001b[0mf\u001b[0m\u001b[1;33m(\u001b[0m\u001b[1;33m)\u001b[0m\u001b[1;33m\u001b[0m\u001b[1;33m\u001b[0m\u001b[0m\n\u001b[0m\u001b[0;32m   5530\u001b[0m         \u001b[1;32mif\u001b[0m \u001b[0mlen\u001b[0m\u001b[1;33m(\u001b[0m\u001b[0mself\u001b[0m\u001b[1;33m.\u001b[0m\u001b[0m_mgr\u001b[0m\u001b[1;33m.\u001b[0m\u001b[0mblocks\u001b[0m\u001b[1;33m)\u001b[0m \u001b[1;33m!=\u001b[0m \u001b[0mblocks_before\u001b[0m\u001b[1;33m:\u001b[0m\u001b[1;33m\u001b[0m\u001b[1;33m\u001b[0m\u001b[0m\n\u001b[0;32m   5531\u001b[0m             \u001b[0mself\u001b[0m\u001b[1;33m.\u001b[0m\u001b[0m_clear_item_cache\u001b[0m\u001b[1;33m(\u001b[0m\u001b[1;33m)\u001b[0m\u001b[1;33m\u001b[0m\u001b[1;33m\u001b[0m\u001b[0m\n",
      "\u001b[1;32mC:\\Python38\\lib\\site-packages\\pandas\\core\\generic.py\u001b[0m in \u001b[0;36mf\u001b[1;34m()\u001b[0m\n\u001b[0;32m   5537\u001b[0m \u001b[1;33m\u001b[0m\u001b[0m\n\u001b[0;32m   5538\u001b[0m         \u001b[1;32mdef\u001b[0m \u001b[0mf\u001b[0m\u001b[1;33m(\u001b[0m\u001b[1;33m)\u001b[0m\u001b[1;33m:\u001b[0m\u001b[1;33m\u001b[0m\u001b[1;33m\u001b[0m\u001b[0m\n\u001b[1;32m-> 5539\u001b[1;33m             \u001b[0mself\u001b[0m\u001b[1;33m.\u001b[0m\u001b[0m_mgr\u001b[0m \u001b[1;33m=\u001b[0m \u001b[0mself\u001b[0m\u001b[1;33m.\u001b[0m\u001b[0m_mgr\u001b[0m\u001b[1;33m.\u001b[0m\u001b[0mconsolidate\u001b[0m\u001b[1;33m(\u001b[0m\u001b[1;33m)\u001b[0m\u001b[1;33m\u001b[0m\u001b[1;33m\u001b[0m\u001b[0m\n\u001b[0m\u001b[0;32m   5540\u001b[0m \u001b[1;33m\u001b[0m\u001b[0m\n\u001b[0;32m   5541\u001b[0m         \u001b[0mself\u001b[0m\u001b[1;33m.\u001b[0m\u001b[0m_protect_consolidate\u001b[0m\u001b[1;33m(\u001b[0m\u001b[0mf\u001b[0m\u001b[1;33m)\u001b[0m\u001b[1;33m\u001b[0m\u001b[1;33m\u001b[0m\u001b[0m\n",
      "\u001b[1;32mC:\\Python38\\lib\\site-packages\\pandas\\core\\internals\\managers.py\u001b[0m in \u001b[0;36mconsolidate\u001b[1;34m(self)\u001b[0m\n\u001b[0;32m    986\u001b[0m         \u001b[0mbm\u001b[0m \u001b[1;33m=\u001b[0m \u001b[0mtype\u001b[0m\u001b[1;33m(\u001b[0m\u001b[0mself\u001b[0m\u001b[1;33m)\u001b[0m\u001b[1;33m(\u001b[0m\u001b[0mself\u001b[0m\u001b[1;33m.\u001b[0m\u001b[0mblocks\u001b[0m\u001b[1;33m,\u001b[0m \u001b[0mself\u001b[0m\u001b[1;33m.\u001b[0m\u001b[0maxes\u001b[0m\u001b[1;33m)\u001b[0m\u001b[1;33m\u001b[0m\u001b[1;33m\u001b[0m\u001b[0m\n\u001b[0;32m    987\u001b[0m         \u001b[0mbm\u001b[0m\u001b[1;33m.\u001b[0m\u001b[0m_is_consolidated\u001b[0m \u001b[1;33m=\u001b[0m \u001b[1;32mFalse\u001b[0m\u001b[1;33m\u001b[0m\u001b[1;33m\u001b[0m\u001b[0m\n\u001b[1;32m--> 988\u001b[1;33m         \u001b[0mbm\u001b[0m\u001b[1;33m.\u001b[0m\u001b[0m_consolidate_inplace\u001b[0m\u001b[1;33m(\u001b[0m\u001b[1;33m)\u001b[0m\u001b[1;33m\u001b[0m\u001b[1;33m\u001b[0m\u001b[0m\n\u001b[0m\u001b[0;32m    989\u001b[0m         \u001b[1;32mreturn\u001b[0m \u001b[0mbm\u001b[0m\u001b[1;33m\u001b[0m\u001b[1;33m\u001b[0m\u001b[0m\n\u001b[0;32m    990\u001b[0m \u001b[1;33m\u001b[0m\u001b[0m\n",
      "\u001b[1;32mC:\\Python38\\lib\\site-packages\\pandas\\core\\internals\\managers.py\u001b[0m in \u001b[0;36m_consolidate_inplace\u001b[1;34m(self)\u001b[0m\n\u001b[0;32m    991\u001b[0m     \u001b[1;32mdef\u001b[0m \u001b[0m_consolidate_inplace\u001b[0m\u001b[1;33m(\u001b[0m\u001b[0mself\u001b[0m\u001b[1;33m)\u001b[0m \u001b[1;33m->\u001b[0m \u001b[1;32mNone\u001b[0m\u001b[1;33m:\u001b[0m\u001b[1;33m\u001b[0m\u001b[1;33m\u001b[0m\u001b[0m\n\u001b[0;32m    992\u001b[0m         \u001b[1;32mif\u001b[0m \u001b[1;32mnot\u001b[0m \u001b[0mself\u001b[0m\u001b[1;33m.\u001b[0m\u001b[0mis_consolidated\u001b[0m\u001b[1;33m(\u001b[0m\u001b[1;33m)\u001b[0m\u001b[1;33m:\u001b[0m\u001b[1;33m\u001b[0m\u001b[1;33m\u001b[0m\u001b[0m\n\u001b[1;32m--> 993\u001b[1;33m             \u001b[0mself\u001b[0m\u001b[1;33m.\u001b[0m\u001b[0mblocks\u001b[0m \u001b[1;33m=\u001b[0m \u001b[0mtuple\u001b[0m\u001b[1;33m(\u001b[0m\u001b[0m_consolidate\u001b[0m\u001b[1;33m(\u001b[0m\u001b[0mself\u001b[0m\u001b[1;33m.\u001b[0m\u001b[0mblocks\u001b[0m\u001b[1;33m)\u001b[0m\u001b[1;33m)\u001b[0m\u001b[1;33m\u001b[0m\u001b[1;33m\u001b[0m\u001b[0m\n\u001b[0m\u001b[0;32m    994\u001b[0m             \u001b[0mself\u001b[0m\u001b[1;33m.\u001b[0m\u001b[0m_is_consolidated\u001b[0m \u001b[1;33m=\u001b[0m \u001b[1;32mTrue\u001b[0m\u001b[1;33m\u001b[0m\u001b[1;33m\u001b[0m\u001b[0m\n\u001b[0;32m    995\u001b[0m             \u001b[0mself\u001b[0m\u001b[1;33m.\u001b[0m\u001b[0m_known_consolidated\u001b[0m \u001b[1;33m=\u001b[0m \u001b[1;32mTrue\u001b[0m\u001b[1;33m\u001b[0m\u001b[1;33m\u001b[0m\u001b[0m\n",
      "\u001b[1;32mC:\\Python38\\lib\\site-packages\\pandas\\core\\internals\\managers.py\u001b[0m in \u001b[0;36m_consolidate\u001b[1;34m(blocks)\u001b[0m\n\u001b[0;32m   1914\u001b[0m     \u001b[0mnew_blocks\u001b[0m\u001b[1;33m:\u001b[0m \u001b[0mList\u001b[0m\u001b[1;33m[\u001b[0m\u001b[0mBlock\u001b[0m\u001b[1;33m]\u001b[0m \u001b[1;33m=\u001b[0m \u001b[1;33m[\u001b[0m\u001b[1;33m]\u001b[0m\u001b[1;33m\u001b[0m\u001b[1;33m\u001b[0m\u001b[0m\n\u001b[0;32m   1915\u001b[0m     \u001b[1;32mfor\u001b[0m \u001b[1;33m(\u001b[0m\u001b[0m_can_consolidate\u001b[0m\u001b[1;33m,\u001b[0m \u001b[0mdtype\u001b[0m\u001b[1;33m)\u001b[0m\u001b[1;33m,\u001b[0m \u001b[0mgroup_blocks\u001b[0m \u001b[1;32min\u001b[0m \u001b[0mgrouper\u001b[0m\u001b[1;33m:\u001b[0m\u001b[1;33m\u001b[0m\u001b[1;33m\u001b[0m\u001b[0m\n\u001b[1;32m-> 1916\u001b[1;33m         merged_blocks = _merge_blocks(\n\u001b[0m\u001b[0;32m   1917\u001b[0m             \u001b[0mlist\u001b[0m\u001b[1;33m(\u001b[0m\u001b[0mgroup_blocks\u001b[0m\u001b[1;33m)\u001b[0m\u001b[1;33m,\u001b[0m \u001b[0mdtype\u001b[0m\u001b[1;33m=\u001b[0m\u001b[0mdtype\u001b[0m\u001b[1;33m,\u001b[0m \u001b[0mcan_consolidate\u001b[0m\u001b[1;33m=\u001b[0m\u001b[0m_can_consolidate\u001b[0m\u001b[1;33m\u001b[0m\u001b[1;33m\u001b[0m\u001b[0m\n\u001b[0;32m   1918\u001b[0m         )\n",
      "\u001b[1;32mC:\\Python38\\lib\\site-packages\\pandas\\core\\internals\\managers.py\u001b[0m in \u001b[0;36m_merge_blocks\u001b[1;34m(blocks, dtype, can_consolidate)\u001b[0m\n\u001b[0;32m   1940\u001b[0m \u001b[1;33m\u001b[0m\u001b[0m\n\u001b[0;32m   1941\u001b[0m         \u001b[0margsort\u001b[0m \u001b[1;33m=\u001b[0m \u001b[0mnp\u001b[0m\u001b[1;33m.\u001b[0m\u001b[0margsort\u001b[0m\u001b[1;33m(\u001b[0m\u001b[0mnew_mgr_locs\u001b[0m\u001b[1;33m)\u001b[0m\u001b[1;33m\u001b[0m\u001b[1;33m\u001b[0m\u001b[0m\n\u001b[1;32m-> 1942\u001b[1;33m         \u001b[0mnew_values\u001b[0m \u001b[1;33m=\u001b[0m \u001b[0mnew_values\u001b[0m\u001b[1;33m[\u001b[0m\u001b[0margsort\u001b[0m\u001b[1;33m]\u001b[0m\u001b[1;33m\u001b[0m\u001b[1;33m\u001b[0m\u001b[0m\n\u001b[0m\u001b[0;32m   1943\u001b[0m         \u001b[0mnew_mgr_locs\u001b[0m \u001b[1;33m=\u001b[0m \u001b[0mnew_mgr_locs\u001b[0m\u001b[1;33m[\u001b[0m\u001b[0margsort\u001b[0m\u001b[1;33m]\u001b[0m\u001b[1;33m\u001b[0m\u001b[1;33m\u001b[0m\u001b[0m\n\u001b[0;32m   1944\u001b[0m \u001b[1;33m\u001b[0m\u001b[0m\n",
      "\u001b[1;31mKeyboardInterrupt\u001b[0m: "
     ]
    }
   ],
   "source": [
    "# Divide pitchers into starters and bullpen\n",
    "starters_df = pd.DataFrame()\n",
    "bullpen_df = pd.DataFrame()\n",
    "\n",
    "for team in pitching_details['team'].unique():\n",
    "    for season in pitching_details['date'].dt.year.unique():\n",
    "        team_df = pitching_details[(pitching_details['team'] == team) & (pitching_details['date'].dt.year == season)].copy()\n",
    "        for date in team_df['date']:\n",
    "            game_df = team_df[team_df['date'] == date]\n",
    "            starters_df = starters_df.append(game_df.iloc[0, :], ignore_index=True)\n",
    "            bullpen_df = bullpen_df.append(game_df.iloc[1:, :], ignore_index=True)"
   ]
  },
  {
   "cell_type": "code",
   "execution_count": null,
   "metadata": {},
   "outputs": [],
   "source": [
    "starters_df.sample(5)"
   ]
  }
 ],
 "metadata": {
  "interpreter": {
   "hash": "2db524e06e9f5f4ffedc911c917cb75e12dbc923643829bf417064a77eb14d37"
  },
  "kernelspec": {
   "display_name": "Python 3.8.2 64-bit",
   "language": "python",
   "name": "python3"
  },
  "language_info": {
   "codemirror_mode": {
    "name": "ipython",
    "version": 3
   },
   "file_extension": ".py",
   "mimetype": "text/x-python",
   "name": "python",
   "nbconvert_exporter": "python",
   "pygments_lexer": "ipython3",
   "version": "3.8.2"
  },
  "orig_nbformat": 4
 },
 "nbformat": 4,
 "nbformat_minor": 2
}
