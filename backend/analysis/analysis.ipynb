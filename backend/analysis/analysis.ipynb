{
 "cells": [
  {
   "cell_type": "code",
   "execution_count": 107,
   "metadata": {},
   "outputs": [],
   "source": [
    "import pandas as pd\n",
    "import os\n",
    "import seaborn as sns\n",
    "import matplotlib.pyplot as plt\n",
    "import numpy as np"
   ]
  },
  {
   "cell_type": "code",
   "execution_count": 108,
   "metadata": {},
   "outputs": [
    {
     "name": "stdout",
     "output_type": "stream",
     "text": [
      "CWD: \n",
      "c:\\Users\\tyler\\OneDrive\\Documents\\Python\\MLB\n"
     ]
    }
   ],
   "source": [
    "# Chage cwd\n",
    "os.chdir('c:\\\\Users\\\\tyler\\\\OneDrive\\\\Documents\\\\Python\\\\MLB')\n",
    "print(f'CWD: \\n{os.getcwd()}')"
   ]
  },
  {
   "cell_type": "code",
   "execution_count": 109,
   "metadata": {},
   "outputs": [
    {
     "name": "stdout",
     "output_type": "stream",
     "text": [
      "<class 'pandas.core.frame.DataFrame'>\n",
      "RangeIndex: 10815 entries, 0 to 10814\n",
      "Data columns (total 4 columns):\n",
      " #   Column   Non-Null Count  Dtype         \n",
      "---  ------   --------------  -----         \n",
      " 0   date     10815 non-null  datetime64[ns]\n",
      " 1   visitor  10815 non-null  object        \n",
      " 2   home     10815 non-null  object        \n",
      " 3   season   10815 non-null  int64         \n",
      "dtypes: datetime64[ns](1), int64(1), object(2)\n",
      "memory usage: 338.1+ KB\n"
     ]
    }
   ],
   "source": [
    "# Load schedules\n",
    "schedule = pd.DataFrame()\n",
    "for season in range(2022-5, 2022):\n",
    "    schedule = schedule.append(pd.read_csv(f'backend/data/schedules/{season}.csv'), ignore_index=True)\n",
    "\n",
    "schedule['date'] = pd.to_datetime(schedule['date'])\n",
    "schedule.info()"
   ]
  },
  {
   "cell_type": "code",
   "execution_count": 110,
   "metadata": {},
   "outputs": [
    {
     "name": "stdout",
     "output_type": "stream",
     "text": [
      "<class 'pandas.core.frame.DataFrame'>\n",
      "RangeIndex: 22812 entries, 0 to 22811\n",
      "Data columns (total 26 columns):\n",
      " #   Column   Non-Null Count  Dtype         \n",
      "---  ------   --------------  -----         \n",
      " 0   date     22812 non-null  datetime64[ns]\n",
      " 1   visitor  22812 non-null  object        \n",
      " 2   home     22812 non-null  object        \n",
      " 3   team     22812 non-null  object        \n",
      " 4   1        22812 non-null  int64         \n",
      " 5   2        22812 non-null  int64         \n",
      " 6   3        22812 non-null  int64         \n",
      " 7   4        22812 non-null  int64         \n",
      " 8   5        22812 non-null  object        \n",
      " 9   6        22804 non-null  object        \n",
      " 10  7        22786 non-null  object        \n",
      " 11  8        22362 non-null  object        \n",
      " 12  9        22306 non-null  object        \n",
      " 13  R        22812 non-null  int64         \n",
      " 14  H        22812 non-null  int64         \n",
      " 15  E        22812 non-null  int64         \n",
      " 16  10       1872 non-null   float64       \n",
      " 17  11       850 non-null    float64       \n",
      " 18  12       410 non-null    float64       \n",
      " 19  13       222 non-null    float64       \n",
      " 20  14       112 non-null    float64       \n",
      " 21  15       74 non-null     float64       \n",
      " 22  16       42 non-null     float64       \n",
      " 23  17       20 non-null     float64       \n",
      " 24  18       14 non-null     float64       \n",
      " 25  19       4 non-null      float64       \n",
      "dtypes: datetime64[ns](1), float64(10), int64(7), object(8)\n",
      "memory usage: 4.5+ MB\n"
     ]
    }
   ],
   "source": [
    "# Load scores\n",
    "scores = pd.read_csv('backend/data/scores/boxscore.csv')\n",
    "scores['date'] = pd.to_datetime(scores['date'])\n",
    "\n",
    "scores.info()"
   ]
  },
  {
   "cell_type": "code",
   "execution_count": 111,
   "metadata": {},
   "outputs": [
    {
     "name": "stdout",
     "output_type": "stream",
     "text": [
      "<class 'pandas.core.frame.DataFrame'>\n",
      "Int64Index: 22812 entries, 0 to 22811\n",
      "Data columns (total 46 columns):\n",
      " #   Column   Non-Null Count  Dtype         \n",
      "---  ------   --------------  -----         \n",
      " 0   date     22812 non-null  datetime64[ns]\n",
      " 1   visitor  22812 non-null  object        \n",
      " 2   home     22812 non-null  object        \n",
      " 3   team     22812 non-null  object        \n",
      " 4   ab       22812 non-null  int64         \n",
      " 5   r        22812 non-null  int64         \n",
      " 6   h        22812 non-null  int64         \n",
      " 7   rbi      22812 non-null  int64         \n",
      " 8   bb       22812 non-null  int64         \n",
      " 9   so       22812 non-null  int64         \n",
      " 10  pa       22812 non-null  int64         \n",
      " 11  ba       22812 non-null  float64       \n",
      " 12  obp      22812 non-null  float64       \n",
      " 13  slg      22812 non-null  float64       \n",
      " 14  ops      22812 non-null  float64       \n",
      " 15  pit      22812 non-null  int64         \n",
      " 16  str      22812 non-null  int64         \n",
      " 17  wpa      22812 non-null  float64       \n",
      " 18  ali      22812 non-null  float64       \n",
      " 19  wpa+     22812 non-null  float64       \n",
      " 20  wpa-     22812 non-null  float64       \n",
      " 21  cwpa     22812 non-null  float64       \n",
      " 22  acli     22812 non-null  float64       \n",
      " 23  re24     22812 non-null  float64       \n",
      " 24  po       22812 non-null  int64         \n",
      " 25  a        22812 non-null  int64         \n",
      " 26  2b       22812 non-null  float64       \n",
      " 27  3b       22812 non-null  float64       \n",
      " 28  cs       22812 non-null  float64       \n",
      " 29  hr       22812 non-null  float64       \n",
      " 30  sb       22812 non-null  float64       \n",
      " 31  sf       22812 non-null  float64       \n",
      " 32  iw       22812 non-null  float64       \n",
      " 33  sh       22812 non-null  float64       \n",
      " 34  gdp      22812 non-null  float64       \n",
      " 35  hbp      22812 non-null  float64       \n",
      " 36  2B       22812 non-null  float64       \n",
      " 37  HR       22812 non-null  float64       \n",
      " 38  IW       22812 non-null  float64       \n",
      " 39  SB       22812 non-null  float64       \n",
      " 40  3B       22812 non-null  float64       \n",
      " 41  GDP      22812 non-null  float64       \n",
      " 42  HBP      22812 non-null  float64       \n",
      " 43  SF       22812 non-null  float64       \n",
      " 44  CS       22812 non-null  float64       \n",
      " 45  SH       22812 non-null  float64       \n",
      "dtypes: datetime64[ns](1), float64(31), int64(11), object(3)\n",
      "memory usage: 8.2+ MB\n"
     ]
    }
   ],
   "source": [
    "# Load batting totals\n",
    "batting_totals = pd.read_csv('backend/data/batting/totals.csv')\n",
    "batting_totals['date'] = pd.to_datetime(batting_totals['date'])\n",
    "batting_totals['wpa-'] = batting_totals['wpa-'].apply(lambda x: float(x.strip(\"%\")))\n",
    "batting_totals['cwpa'] = batting_totals['cwpa'].apply(lambda x: float(x.strip(\"%\")))\n",
    "batting_totals = batting_totals.fillna(0)\n",
    "batting_totals = batting_totals[batting_totals['ab'] != 0]\n",
    "\n",
    "batting_totals.info(verbose=True)"
   ]
  },
  {
   "cell_type": "code",
   "execution_count": 112,
   "metadata": {},
   "outputs": [],
   "source": [
    "def feature_engineer(df, type):\n",
    "    if type == 'batting':\n",
    "        # Function for feature engineering stats for batting\n",
    "        df['ba'] = df['h'] / df['ab']\n",
    "        df['obp'] = (df['h'] + df['bb'] + df['hbp']) / (df['ab'] + df['bb'] + df['hbp'] + df['sf'])\n",
    "        df['1b'] = df['h'] - (df['2b'] + df['3b'] + df['hr'])\n",
    "        df['slg'] = (df['1b'] + 2*df['2b'] + 3*df['3b'] + 4*df['hr']) / df['ab']\n",
    "        df['ops'] = df['obp'] + df['slg']\n",
    "    elif type == 'pitching':\n",
    "        df['era'] = 9 * df['er'] / df['ip']\n",
    "\n",
    "    return df"
   ]
  },
  {
   "cell_type": "code",
   "execution_count": 146,
   "metadata": {},
   "outputs": [],
   "source": [
    "# Function for sma\n",
    "def sma(bin, df, type):\n",
    "\n",
    "    sma_df = pd.DataFrame()\n",
    "    \n",
    "    for team in df['team'].unique():\n",
    "        for season in df['date'].dt.year.unique():\n",
    "            team_df = df[(df['team'] == team) & (df['date'].dt.year == season)].sort_values(by=['date']).copy()\n",
    "            for col in list(set(df.columns).difference({'date', 'visitor', 'home', 'team', 'player'})):\n",
    "                team_df[col] = team_df[col].rolling(bin, closed='left').mean()\n",
    "            \n",
    "            sma_df = sma_df.append(team_df, ignore_index=True)\n",
    "    \n",
    "    sma_df = pd.merge(\n",
    "        sma_df, \n",
    "        df[['date', 'visitor', 'home', 'team', 'h']],\n",
    "        left_on=['date', 'visitor', 'home', 'team'], \n",
    "        right_on=['date', 'visitor', 'home', 'team'],\n",
    "        suffixes=('', '_target')\n",
    "    )\n",
    "\n",
    "    sma_df = feature_engineer(sma_df, type)\n",
    "\n",
    "    return sma_df.sort_values(by=['date'])"
   ]
  },
  {
   "cell_type": "code",
   "execution_count": 147,
   "metadata": {},
   "outputs": [],
   "source": [
    "# Function for cma\n",
    "def cma(df, schedule, type):\n",
    "\n",
    "    cma_df = pd.DataFrame()\n",
    "\n",
    "    for team in df['team'].unique():\n",
    "        for season in df['date'].dt.year.unique():\n",
    "            team_df = df[(df['team'] == team) & (df['date'].dt.year == season)].sort_values(by=['date']).copy()\n",
    "            \n",
    "            team_schedule = schedule[\n",
    "                ((schedule['home'] == team) | (schedule['visitor'] == team)) & \n",
    "                (schedule['date'].dt.year == season)\n",
    "            ].drop(['season'], axis=1)\n",
    "\n",
    "            team_df = pd.merge(\n",
    "                team_schedule,\n",
    "                team_df,\n",
    "                left_on=['date', 'visitor', 'home'],\n",
    "                right_on=['date', 'visitor', 'home'],\n",
    "                how='left'\n",
    "            ).drop_duplicates(\n",
    "                ['date', 'visitor', 'home', 'team']\n",
    "            )\n",
    "            \n",
    "            team_df['team'] = team_df['team'].shift(1)\n",
    "            for col in list(set(team_df.columns).difference({'date', 'visitor', 'home', 'team', 'player'})):\n",
    "                team_df[col] = team_df[col].expanding().mean()\n",
    "                team_df[col] = team_df[col].shift(1)\n",
    "            \n",
    "            cma_df = cma_df.append(team_df.dropna(axis=0), ignore_index=True)\n",
    "    \n",
    "    cma_df = pd.merge(\n",
    "        cma_df, \n",
    "        df[['date', 'visitor', 'home', 'team', 'h']],\n",
    "        left_on=['date', 'visitor', 'home', 'team'], \n",
    "        right_on=['date', 'visitor', 'home', 'team'],\n",
    "        suffixes=('', '_target'),\n",
    "        how='left'\n",
    "    ).drop_duplicates(\n",
    "        ['date', 'visitor', 'home', 'team']\n",
    "    )\n",
    "\n",
    "    cma_df = feature_engineer(cma_df, type)\n",
    "\n",
    "    return cma_df.sort_values(by=['date'])"
   ]
  },
  {
   "cell_type": "code",
   "execution_count": 148,
   "metadata": {},
   "outputs": [],
   "source": [
    "def ema(df, type, schedule):\n",
    "\n",
    "    ema_df = pd.DataFrame()\n",
    "\n",
    "    for team in df['team'].unique():\n",
    "        for season in df['date'].dt.year.unique():\n",
    "            team_df = df[(df['team'] == team) & (df['date'].dt.year == season)].sort_values(by=['date']).copy()\n",
    "            \n",
    "            team_schedule = schedule[\n",
    "                ((schedule['home'] == team) | (schedule['visitor'] == team)) & \n",
    "                (schedule['date'].dt.year == season)\n",
    "            ].drop(['season'], axis=1)\n",
    "\n",
    "            team_df = pd.merge(\n",
    "                team_schedule,\n",
    "                team_df,\n",
    "                left_on=['date', 'visitor', 'home'],\n",
    "                right_on=['date', 'visitor', 'home'],\n",
    "                how='left'\n",
    "            ).drop_duplicates(\n",
    "                ['date', 'visitor', 'home', 'team']\n",
    "            )\n",
    "            \n",
    "            team_df['team'] = team_df['team'].shift(1)\n",
    "            for col in list(set(team_df.columns).difference({'date', 'visitor', 'home', 'team', 'player'})):\n",
    "                team_df[col] = team_df[col].ewm(alpha=.5).mean()\n",
    "                team_df[col] = team_df[col].shift(1)\n",
    "            \n",
    "            ema_df = ema_df.append(team_df.dropna(axis=0), ignore_index=True)\n",
    "    \n",
    "    ema_df = pd.merge(\n",
    "        ema_df, \n",
    "        df[['date', 'visitor', 'home', 'team', 'h']],\n",
    "        left_on=['date', 'visitor', 'home', 'team'], \n",
    "        right_on=['date', 'visitor', 'home', 'team'],\n",
    "        suffixes=('', '_target'),\n",
    "        how='left'\n",
    "    ).drop_duplicates(\n",
    "        ['date', 'visitor', 'home', 'team']\n",
    "    )\n",
    "\n",
    "    ema_df = feature_engineer(ema_df, type)\n",
    "\n",
    "    return ema_df.sort_values(by=['date'])"
   ]
  },
  {
   "cell_type": "code",
   "execution_count": 140,
   "metadata": {},
   "outputs": [],
   "source": [
    "# Apply SMA (season, last 20 games, last 10 games, last 5 games, last 3 games, last game)\n",
    "cols = list(set(batting_totals.columns).difference({'obp', 'slg', 'ops', 'wpa', 'ali', 'wpa+', 'wpa-', 'cwpa', 'acli', 're24'}))\n",
    "df = batting_totals[cols]\n",
    "ema_batting_df = ema(df, 'batting', schedule)\n",
    "sma_batting_df = sma(2, df, 'batting')\n",
    "cma_batting_df = cma(df, schedule, 'batting')"
   ]
  },
  {
   "cell_type": "code",
   "execution_count": 141,
   "metadata": {},
   "outputs": [
    {
     "name": "stdout",
     "output_type": "stream",
     "text": [
      "<class 'pandas.core.frame.DataFrame'>\n",
      "RangeIndex: 22812 entries, 0 to 22811\n",
      "Data columns (total 30 columns):\n",
      " #   Column   Non-Null Count  Dtype         \n",
      "---  ------   --------------  -----         \n",
      " 0   date     22812 non-null  datetime64[ns]\n",
      " 1   visitor  22812 non-null  object        \n",
      " 2   home     22812 non-null  object        \n",
      " 3   team     22812 non-null  object        \n",
      " 4   ip       22812 non-null  float64       \n",
      " 5   h        22812 non-null  int64         \n",
      " 6   r        22812 non-null  int64         \n",
      " 7   er       22812 non-null  int64         \n",
      " 8   bb       22812 non-null  int64         \n",
      " 9   so       22812 non-null  int64         \n",
      " 10  hr       22812 non-null  int64         \n",
      " 11  era      22812 non-null  float64       \n",
      " 12  bf       22812 non-null  int64         \n",
      " 13  pit      22812 non-null  int64         \n",
      " 14  str      22812 non-null  int64         \n",
      " 15  ctct     22812 non-null  int64         \n",
      " 16  sts      22812 non-null  int64         \n",
      " 17  stl      22812 non-null  int64         \n",
      " 18  gb       22812 non-null  int64         \n",
      " 19  fb       22812 non-null  int64         \n",
      " 20  ld       22812 non-null  int64         \n",
      " 21  unk      22812 non-null  int64         \n",
      " 22  gsc      22812 non-null  int64         \n",
      " 23  ir       22584 non-null  float64       \n",
      " 24  is       22584 non-null  float64       \n",
      " 25  wpa      22812 non-null  float64       \n",
      " 26  ali      22812 non-null  float64       \n",
      " 27  cwpa     22812 non-null  float64       \n",
      " 28  acli     22812 non-null  float64       \n",
      " 29  re24     22812 non-null  float64       \n",
      "dtypes: datetime64[ns](1), float64(9), int64(17), object(3)\n",
      "memory usage: 5.2+ MB\n"
     ]
    }
   ],
   "source": [
    "# Load pitching totals\n",
    "pitching_totals = pd.read_csv('backend/data/pitching/totals.csv')\n",
    "pitching_totals['date'] = pd.to_datetime(pitching_totals['date'])\n",
    "pitching_totals['cwpa'] = pitching_totals['cwpa'].apply(lambda x: float(x.strip('%')))\n",
    "\n",
    "pitching_totals.info()"
   ]
  },
  {
   "cell_type": "code",
   "execution_count": 142,
   "metadata": {},
   "outputs": [],
   "source": [
    "# Apply SMA (season, last 20 games, last 10 games, last 5 games, last 3 games, last game)\n",
    "cols = list(set(pitching_totals.columns).difference({'era', 'gsc', 'wpa', 'ali', 'cwpa', 'acli', 're24'}))\n",
    "df = pitching_totals[cols]\n",
    "ema_pitching_df = ema(df, 'pitching', schedule)\n",
    "sma_pitching_df = sma(2, df, 'pitching')\n",
    "cma_pitching_df = cma(df, schedule, 'pitching')"
   ]
  },
  {
   "cell_type": "code",
   "execution_count": 75,
   "metadata": {},
   "outputs": [
    {
     "name": "stdout",
     "output_type": "stream",
     "text": [
      "<class 'pandas.core.frame.DataFrame'>\n",
      "RangeIndex: 100166 entries, 0 to 100165\n",
      "Data columns (total 31 columns):\n",
      " #   Column   Non-Null Count   Dtype         \n",
      "---  ------   --------------   -----         \n",
      " 0   date     100166 non-null  datetime64[ns]\n",
      " 1   visitor  100166 non-null  object        \n",
      " 2   home     100166 non-null  object        \n",
      " 3   team     100166 non-null  object        \n",
      " 4   player   100166 non-null  object        \n",
      " 5   ip       100166 non-null  float64       \n",
      " 6   h        100166 non-null  int64         \n",
      " 7   r        100166 non-null  int64         \n",
      " 8   er       100166 non-null  int64         \n",
      " 9   bb       100166 non-null  int64         \n",
      " 10  so       100166 non-null  int64         \n",
      " 11  hr       100166 non-null  int64         \n",
      " 12  era      100127 non-null  float64       \n",
      " 13  bf       100166 non-null  int64         \n",
      " 14  pit      100140 non-null  float64       \n",
      " 15  str      100140 non-null  float64       \n",
      " 16  ctct     100061 non-null  float64       \n",
      " 17  sts      100140 non-null  float64       \n",
      " 18  stl      100140 non-null  float64       \n",
      " 19  gb       100141 non-null  float64       \n",
      " 20  fb       100141 non-null  float64       \n",
      " 21  ld       100141 non-null  float64       \n",
      " 22  unk      100141 non-null  float64       \n",
      " 23  gsc      22812 non-null   float64       \n",
      " 24  ir       77350 non-null   float64       \n",
      " 25  is       77350 non-null   float64       \n",
      " 26  wpa      100141 non-null  float64       \n",
      " 27  ali      100166 non-null  float64       \n",
      " 28  cwpa     100166 non-null  float64       \n",
      " 29  acli     100166 non-null  float64       \n",
      " 30  re24     100166 non-null  float64       \n",
      "dtypes: datetime64[ns](1), float64(19), int64(7), object(4)\n",
      "memory usage: 23.7+ MB\n"
     ]
    }
   ],
   "source": [
    "# Load pitching details\n",
    "pitching_details = pd.read_csv('backend/data/pitching/details.csv')\n",
    "pitching_details['date'] = pd.to_datetime(pitching_details['date'])\n",
    "pitching_details['cwpa'] = pitching_details['cwpa'].apply(lambda x: float(x.strip('%')))\n",
    "\n",
    "pitching_details.info()"
   ]
  },
  {
   "cell_type": "code",
   "execution_count": 151,
   "metadata": {},
   "outputs": [],
   "source": [
    "# Starting pitchers\n",
    "starters_df = pitching_details[\n",
    "    pitching_details['ip'] >= 6\n",
    "].groupby(\n",
    "    ['date', 'visitor', 'home', 'team']\n",
    ").sum(\n",
    ").reset_index()\n",
    "\n",
    "cols = list(set(starters_df.columns).difference({'era', 'gsc', 'wpa', 'ali', 'cwpa', 'acli', 're24'}))\n",
    "df = starters_df[cols]\n",
    "ema_starters = ema(df, 'pitching', schedule)\n",
    "sma_starters = sma(2, df, 'pitching')\n",
    "cma_starters = cma(df, schedule, 'pitching')"
   ]
  },
  {
   "cell_type": "code",
   "execution_count": 152,
   "metadata": {},
   "outputs": [],
   "source": [
    "# Starting pitchers\n",
    "bullpen_df = pitching_details[\n",
    "    pitching_details['ip'] < 6\n",
    "].groupby(\n",
    "    ['date', 'visitor', 'home', 'team']\n",
    ").sum(\n",
    ").reset_index()\n",
    "\n",
    "cols = list(set(bullpen_df.columns).difference({'era', 'gsc', 'wpa', 'ali', 'cwpa', 'acli', 're24'}))\n",
    "df = bullpen_df[cols]\n",
    "ema_bullpen = ema(df, 'pitching', schedule)\n",
    "sma_bullpen = sma(2, df, 'pitching')\n",
    "cma_bullpen = cma(df, schedule, 'pitching')"
   ]
  },
  {
   "cell_type": "code",
   "execution_count": 160,
   "metadata": {},
   "outputs": [
    {
     "name": "stdout",
     "output_type": "stream",
     "text": [
      "CMA Correlation: 10%\n",
      "SMA Correlation: 8%\n",
      "EMA Correlation: 5%\n"
     ]
    }
   ],
   "source": [
    "# Average pitching and batting data\n",
    "dfs = {\n",
    "    'cma': (cma_batting_df, cma_starters, cma_bullpen), \n",
    "    'sma': (sma_batting_df, sma_starters, sma_bullpen), \n",
    "    'ema': (ema_batting_df, ema_starters, ema_bullpen)\n",
    "}\n",
    "for key in dfs:\n",
    "    batting_df = dfs[key][0]\n",
    "    starters_df = dfs[key][1]\n",
    "    bullpen_df = dfs[key][2]\n",
    "\n",
    "    batting_df['opponent'] = np.where(batting_df['team'] == batting_df['home'], batting_df['visitor'], batting_df['home'])\n",
    "\n",
    "    pitching_df = pd.merge(\n",
    "        starters_df[['date', 'visitor', 'home', 'team', 'h']], \n",
    "        bullpen_df[['date', 'visitor', 'home', 'team', 'h']],\n",
    "        left_on=['date', 'visitor', 'home', 'team'],\n",
    "        right_on=['date', 'visitor', 'home', 'team'],\n",
    "        suffixes=('_starters', '_bullpen')\n",
    "    )\n",
    "\n",
    "    df = pd.merge(\n",
    "        batting_df[['date', 'visitor', 'home', 'team', 'opponent', 'h', 'h_target']], \n",
    "        pitching_df[['date', 'visitor', 'home', 'team', 'h_starters', 'h_bullpen']], \n",
    "        left_on=['date', 'visitor', 'home', 'opponent'],\n",
    "        right_on=['date', 'visitor', 'home', 'team'],\n",
    "        suffixes=['_batting', '_pitching']\n",
    "    )\n",
    "\n",
    "    df['h'] =  (df['h'] * 0.5) + ((df['h_starters'] * 0.6) + (df['h_bullpen'] * 0.) * 0.5)\n",
    "    corr = round(df['h'].corr(df['h_target']) * 100)\n",
    "    print(f'{key.upper()} Correlation: {corr}%')\n"
   ]
  },
  {
   "cell_type": "code",
   "execution_count": 159,
   "metadata": {},
   "outputs": [
    {
     "data": {
      "image/png": "[encoded data removed]",
      "text/plain": [
       "<Figure size 720x720 with 1 Axes>"
      ]
     },
     "metadata": {
      "needs_background": "light"
     },
     "output_type": "display_data"
    }
   ],
   "source": [
    "# Graph\n",
    "fig, ax = plt.subplots(1, 1, figsize=(10, 10))\n",
    "\n",
    "sns.regplot(\n",
    "    data=df, \n",
    "    x='h',\n",
    "    y='h_target',\n",
    "    order=2,\n",
    "    ax=ax, \n",
    "    scatter_kws={'alpha':0.004}, \n",
    "    line_kws={\"color\": \"red\"}\n",
    "    )\n",
    "\n",
    "plt.show()"
   ]
  }
 ],
 "metadata": {
  "interpreter": {
   "hash": "2db524e06e9f5f4ffedc911c917cb75e12dbc923643829bf417064a77eb14d37"
  },
  "kernelspec": {
   "display_name": "Python 3.8.2 64-bit",
   "language": "python",
   "name": "python3"
  },
  "language_info": {
   "codemirror_mode": {
    "name": "ipython",
    "version": 3
   },
   "file_extension": ".py",
   "mimetype": "text/x-python",
   "name": "python",
   "nbconvert_exporter": "python",
   "pygments_lexer": "ipython3",
   "version": "3.8.2"
  },
  "orig_nbformat": 4
 },
 "nbformat": 4,
 "nbformat_minor": 2
}
